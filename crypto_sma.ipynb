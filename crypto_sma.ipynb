{
 "cells": [
  {
   "cell_type": "code",
   "execution_count": 1,
   "metadata": {},
   "outputs": [
    {
     "name": "stderr",
     "output_type": "stream",
     "text": [
      "C:\\Users\\Fang\\Anaconda3\\lib\\site-packages\\statsmodels\\compat\\pandas.py:56: FutureWarning: The pandas.core.datetools module is deprecated and will be removed in a future version. Please use the pandas.tseries module instead.\n",
      "  from pandas.core import datetools\n"
     ]
    }
   ],
   "source": [
    "#%% Importing modules and data\n",
    "import smtplib\n",
    "import pandas as pd\n",
    "import numpy as np\n",
    "import datetime as dt\n",
    "# import pandas.stats.moments as st\n",
    "import statsmodels.api as sm # import statsmodels \n",
    "from pandas import ExcelWriter\n",
    "import matplotlib.pyplot as plt\n",
    "import scipy.stats as st\n",
    "import os\n",
    "import quandl as qd\n",
    "import seaborn as sns\n",
    "%matplotlib inline\n",
    "\n",
    "def save_xls(list_dfs, xls_path,sheet_names):\n",
    "    writer = ExcelWriter(xls_path)\n",
    "    for n, df in enumerate(list_dfs):\n",
    "        df.to_excel(writer, sheet_names[n])\n",
    "    writer.save()\n",
    "    return\n",
    "\n",
    "# Changing Directory\n",
    "os.chdir('C:\\\\Users\\\\Fang\\\\Desktop\\\\Python Trading\\\\SPX Option Backtester\\\\crypto_testing\\\\Data')"
   ]
  },
  {
   "cell_type": "code",
   "execution_count": 47,
   "metadata": {},
   "outputs": [
    {
     "data": {
      "text/plain": [
       "109.76967093833085"
      ]
     },
     "execution_count": 47,
     "metadata": {},
     "output_type": "execute_result"
    }
   ],
   "source": [
    "# List of Crypto Data\n",
    "# BTC ETH XRP BCH LTC DASH NEM Monero IOTA ETC OMG NEO BCC LSK\n",
    "# Data has Open, High, Low, Close, Volume, Marketcap\n",
    "\n",
    "fast = 1\n",
    "slow = 10\n",
    "\n",
    "def crypto_ma_opt(crypto = 'BTC', fast = 1, slow = 10, show_values = False):\n",
    "    \n",
    "    df = pd.read_excel('cryptodata.xlsx', sheetname = crypto, index_col = 0).sort_index()\n",
    "    \n",
    "    fast = 1\n",
    "    slow = 10\n",
    "\n",
    "    df['fast'] = df[['Close']].rolling(fast).mean().shift(1)\n",
    "    df['slow'] = df['Close'].rolling(slow).mean().shift(1)\n",
    "    \n",
    "    df['return'] = df['Close']/df['Close'].shift(1) - 1\n",
    "    df['signal'] = df['fast'] >= df['slow']\n",
    "    \n",
    "    df['signal_return'] = df['signal']*df['return'].shift(-1)\n",
    "    df['cumulative_return'] = ((df['return']+1).cumprod() - 1)\n",
    "    df['signal_cumulative'] = ((df['signal_return']+1).cumprod() - 1)\n",
    "    \n",
    "    df = df.dropna()\n",
    "    \n",
    "    cumulative_return = df['cumulative_return'][-1]\n",
    "    signal_cumulative = df['signal_cumulative'][-1]\n",
    "    \n",
    "    if show_values:\n",
    "        print(str(round(cumulative_return,2)))\n",
    "        print(str(round(signal_cumulative,2)))\n",
    "        df[['cumulative_return','signal_cumulative']].plot(figsize = (20,20))\n",
    "    \n",
    "    return signal_cumulative\n",
    "\n",
    "\n",
    "crypto_ma_opt(crypto = 'ETH')"
   ]
  },
  {
   "cell_type": "code",
   "execution_count": 38,
   "metadata": {},
   "outputs": [
    {
     "data": {
      "text/plain": [
       "385"
      ]
     },
     "execution_count": 38,
     "metadata": {},
     "output_type": "execute_result"
    }
   ],
   "source": [
    "df = pd.read_excel('cryptodata.xlsx', sheetname = crypto, index_col = 0).sort_index()\n",
    "\n",
    "training_set = round(len(df)/2)\n",
    "test_set = len(df) - training_set\n",
    "\n",
    "test_set"
   ]
  },
  {
   "cell_type": "code",
   "execution_count": 35,
   "metadata": {},
   "outputs": [
    {
     "name": "stderr",
     "output_type": "stream",
     "text": [
      "C:\\Users\\Fang\\Anaconda3\\lib\\site-packages\\ipykernel_launcher.py:1: DeprecationWarning: \n",
      ".ix is deprecated. Please use\n",
      ".loc for label based indexing or\n",
      ".iloc for positional indexing\n",
      "\n",
      "See the documentation here:\n",
      "http://pandas.pydata.org/pandas-docs/stable/indexing.html#deprecate_ix\n",
      "  \"\"\"Entry point for launching an IPython kernel.\n"
     ]
    },
    {
     "data": {
      "text/plain": [
       "Open              11.02\n",
       "High              11.15\n",
       "Low               11.01\n",
       "Close             11.04\n",
       "Volume          4423420\n",
       "Market Cap    918039000\n",
       "Name: 2016-08-24 00:00:00, dtype: object"
      ]
     },
     "execution_count": 35,
     "metadata": {},
     "output_type": "execute_result"
    }
   ],
   "source": [
    "df.head(test_set).ix[-1,:]"
   ]
  },
  {
   "cell_type": "code",
   "execution_count": 39,
   "metadata": {},
   "outputs": [
    {
     "data": {
      "text/html": [
       "<div>\n",
       "<style>\n",
       "    .dataframe thead tr:only-child th {\n",
       "        text-align: right;\n",
       "    }\n",
       "\n",
       "    .dataframe thead th {\n",
       "        text-align: left;\n",
       "    }\n",
       "\n",
       "    .dataframe tbody tr th {\n",
       "        vertical-align: top;\n",
       "    }\n",
       "</style>\n",
       "<table border=\"1\" class=\"dataframe\">\n",
       "  <thead>\n",
       "    <tr style=\"text-align: right;\">\n",
       "      <th></th>\n",
       "      <th>Open</th>\n",
       "      <th>High</th>\n",
       "      <th>Low</th>\n",
       "      <th>Close</th>\n",
       "      <th>Volume</th>\n",
       "      <th>Market Cap</th>\n",
       "    </tr>\n",
       "    <tr>\n",
       "      <th>Date</th>\n",
       "      <th></th>\n",
       "      <th></th>\n",
       "      <th></th>\n",
       "      <th></th>\n",
       "      <th></th>\n",
       "      <th></th>\n",
       "    </tr>\n",
       "  </thead>\n",
       "  <tbody>\n",
       "    <tr>\n",
       "      <th>2016-08-25</th>\n",
       "      <td>11.03</td>\n",
       "      <td>11.39</td>\n",
       "      <td>11.02</td>\n",
       "      <td>11.36</td>\n",
       "      <td>8552380</td>\n",
       "      <td>918977000</td>\n",
       "    </tr>\n",
       "  </tbody>\n",
       "</table>\n",
       "</div>"
      ],
      "text/plain": [
       "             Open   High    Low  Close   Volume Market Cap\n",
       "Date                                                      \n",
       "2016-08-25  11.03  11.39  11.02  11.36  8552380  918977000"
      ]
     },
     "execution_count": 39,
     "metadata": {},
     "output_type": "execute_result"
    }
   ],
   "source": [
    "df.tail(test_set).head(1)"
   ]
  },
  {
   "cell_type": "code",
   "execution_count": 48,
   "metadata": {},
   "outputs": [
    {
     "data": {
      "text/html": [
       "<div>\n",
       "<style>\n",
       "    .dataframe thead tr:only-child th {\n",
       "        text-align: right;\n",
       "    }\n",
       "\n",
       "    .dataframe thead th {\n",
       "        text-align: left;\n",
       "    }\n",
       "\n",
       "    .dataframe tbody tr th {\n",
       "        vertical-align: top;\n",
       "    }\n",
       "</style>\n",
       "<table border=\"1\" class=\"dataframe\">\n",
       "  <thead>\n",
       "    <tr style=\"text-align: right;\">\n",
       "      <th></th>\n",
       "      <th>5</th>\n",
       "      <th>10</th>\n",
       "      <th>15</th>\n",
       "    </tr>\n",
       "  </thead>\n",
       "  <tbody>\n",
       "    <tr>\n",
       "      <th>5</th>\n",
       "      <td>NaN</td>\n",
       "      <td>NaN</td>\n",
       "      <td>NaN</td>\n",
       "    </tr>\n",
       "    <tr>\n",
       "      <th>10</th>\n",
       "      <td>NaN</td>\n",
       "      <td>NaN</td>\n",
       "      <td>NaN</td>\n",
       "    </tr>\n",
       "    <tr>\n",
       "      <th>15</th>\n",
       "      <td>NaN</td>\n",
       "      <td>NaN</td>\n",
       "      <td>NaN</td>\n",
       "    </tr>\n",
       "    <tr>\n",
       "      <th>20</th>\n",
       "      <td>NaN</td>\n",
       "      <td>NaN</td>\n",
       "      <td>NaN</td>\n",
       "    </tr>\n",
       "    <tr>\n",
       "      <th>25</th>\n",
       "      <td>NaN</td>\n",
       "      <td>NaN</td>\n",
       "      <td>NaN</td>\n",
       "    </tr>\n",
       "    <tr>\n",
       "      <th>30</th>\n",
       "      <td>NaN</td>\n",
       "      <td>NaN</td>\n",
       "      <td>NaN</td>\n",
       "    </tr>\n",
       "    <tr>\n",
       "      <th>35</th>\n",
       "      <td>NaN</td>\n",
       "      <td>NaN</td>\n",
       "      <td>NaN</td>\n",
       "    </tr>\n",
       "  </tbody>\n",
       "</table>\n",
       "</div>"
      ],
      "text/plain": [
       "     5    10   15\n",
       "5   NaN  NaN  NaN\n",
       "10  NaN  NaN  NaN\n",
       "15  NaN  NaN  NaN\n",
       "20  NaN  NaN  NaN\n",
       "25  NaN  NaN  NaN\n",
       "30  NaN  NaN  NaN\n",
       "35  NaN  NaN  NaN"
      ]
     },
     "execution_count": 48,
     "metadata": {},
     "output_type": "execute_result"
    }
   ],
   "source": [
    "testdf = pd.DataFrame(columns = np.arange(5,20,5), index = np.arange(5,40,5))\n",
    "testdf"
   ]
  },
  {
   "cell_type": "code",
   "execution_count": null,
   "metadata": {
    "collapsed": true
   },
   "outputs": [],
   "source": []
  },
  {
   "cell_type": "code",
   "execution_count": null,
   "metadata": {
    "collapsed": true
   },
   "outputs": [],
   "source": []
  },
  {
   "cell_type": "code",
   "execution_count": null,
   "metadata": {
    "collapsed": true
   },
   "outputs": [],
   "source": []
  }
 ],
 "metadata": {
  "kernelspec": {
   "display_name": "Python 3",
   "language": "python",
   "name": "python3"
  },
  "language_info": {
   "codemirror_mode": {
    "name": "ipython",
    "version": 3
   },
   "file_extension": ".py",
   "mimetype": "text/x-python",
   "name": "python",
   "nbconvert_exporter": "python",
   "pygments_lexer": "ipython3",
   "version": "3.6.1"
  }
 },
 "nbformat": 4,
 "nbformat_minor": 1
}
