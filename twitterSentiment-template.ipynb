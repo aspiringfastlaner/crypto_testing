{
 "cells": [
  {
   "cell_type": "code",
   "execution_count": 29,
   "metadata": {
    "collapsed": true
   },
   "outputs": [],
   "source": [
    "import re\n",
    "import tweepy\n",
    "from tweepy import OAuthHandler\n",
    "from textblob import TextBlob\n",
    "import time\n",
    "import datetime as dt\n",
    "import pandas as pd\n",
    "import numpy as np\n",
    "import json\n",
    "import requests\n",
    "import csv\n",
    "import os\n",
    "\n",
    "class TwitterClient(object):\n",
    "    '''\n",
    "    Generic Twitter Class for sentiment analysis.\n",
    "    '''\n",
    "    def __init__(self):\n",
    "        '''\n",
    "        Class constructor or initialization method.\n",
    "        '''\n",
    "        # keys and tokens from the Twitter Dev Console\n",
    "        consumer_key = 'XXXXXXXX'\n",
    "        consumer_secret = 'XXXXXXXX'\n",
    "        access_token = 'XXXXXXXX-XXXXXXXX'\n",
    "        access_token_secret = 'XXXXXXXXXXXX'\n",
    " \n",
    "        # attempt authentication\n",
    "        try:\n",
    "            # create OAuthHandler object\n",
    "            self.auth = OAuthHandler(consumer_key, consumer_secret)\n",
    "            # set access token and secret\n",
    "            self.auth.set_access_token(access_token, access_token_secret)\n",
    "            # create tweepy API object to fetch tweets\n",
    "            self.api = tweepy.API(self.auth)\n",
    "        except:\n",
    "            print(\"Error: Authentication Failed\")\n",
    " \n",
    "    def clean_tweet(self, tweet):\n",
    "        '''\n",
    "        Utility function to clean tweet text by removing links, special characters\n",
    "        using simple regex statements.\n",
    "        '''\n",
    "        return ' '.join(re.sub(\"(@[A-Za-z0-9]+)|([^0-9A-Za-z \\t])|(\\w+:\\/\\/\\S+)\", \" \", tweet).split())\n",
    " \n",
    "    def get_tweet_sentiment(self, tweet):\n",
    "        '''\n",
    "        Utility function to classify sentiment of passed tweet\n",
    "        using textblob's sentiment method\n",
    "        '''\n",
    "        # create TextBlob object of passed tweet text\n",
    "        analysis = TextBlob(self.clean_tweet(tweet))\n",
    "        # set sentiment\n",
    "        if analysis.sentiment.polarity > 0:\n",
    "            return 'positive'\n",
    "        elif analysis.sentiment.polarity == 0:\n",
    "            return 'neutral'\n",
    "        else:\n",
    "            return 'negative'\n",
    " \n",
    "    def get_tweets(self, query, count = 10):\n",
    "        '''\n",
    "        Main function to fetch tweets and parse them.\n",
    "        '''\n",
    "        # empty list to store parsed tweets\n",
    "        tweets = []\n",
    " \n",
    "        try:\n",
    "            # call twitter api to fetch tweets\n",
    "            fetched_tweets = self.api.search(q = query, count = count)\n",
    " \n",
    "            # parsing tweets one by one\n",
    "            for tweet in fetched_tweets:\n",
    "                # empty dictionary to store required params of a tweet\n",
    "                parsed_tweet = {}\n",
    " \n",
    "                # saving text of tweet\n",
    "                parsed_tweet['text'] = tweet.text\n",
    "                # saving sentiment of tweet\n",
    "                parsed_tweet['sentiment'] = self.get_tweet_sentiment(tweet.text)\n",
    " \n",
    "                # appending parsed tweet to tweets list\n",
    "                if tweet.retweet_count > 0:\n",
    "                    # if tweet has retweets, ensure that it is appended only once\n",
    "                    if parsed_tweet not in tweets:\n",
    "                        tweets.append(parsed_tweet)\n",
    "                else:\n",
    "                    tweets.append(parsed_tweet)\n",
    " \n",
    "            # return parsed tweets\n",
    "            return tweets\n",
    " \n",
    "        except tweepy.TweepError as e:\n",
    "            # print error (if any)\n",
    "            print(\"Error : \" + str(e))\n"
   ]
  },
  {
   "cell_type": "markdown",
   "metadata": {},
   "source": [
    "# Main function for scraping twitter\n",
    "main function queries twitter at the current time and retrieves the \n",
    "sentiment from each tweet retrieved from query"
   ]
  },
  {
   "cell_type": "code",
   "execution_count": 2,
   "metadata": {
    "collapsed": true
   },
   "outputs": [],
   "source": [
    " def main(topic, querySize, summary = True):\n",
    "    # creating object of TwitterClient Class\n",
    "    api = TwitterClient()\n",
    "    # calling function to get tweets\n",
    "    if type(topic) == str:\n",
    "        tweets = api.get_tweets(query = topic, count = querySize)\n",
    "    else:\n",
    "        tweets = []\n",
    "        for t in topic:\n",
    "            tweets = tweets + api.get_tweets(query = t, count = querySize)\n",
    " \n",
    "    # picking positive tweets from tweets\n",
    "    ptweets = [tweet for tweet in tweets if tweet['sentiment'] == 'positive']\n",
    "    \n",
    "    # picking negative tweets from tweets\n",
    "    ntweets = [tweet for tweet in tweets if tweet['sentiment'] == 'negative']\n",
    "    \n",
    "    # number of neutral tweets\n",
    "    neutralCount = len(tweets) - len(ntweets) - len(ptweets)\n",
    "    \n",
    "    if summary:\n",
    "        # percentage of positive tweets\n",
    "        print(\"Positive tweets percentage: {} %\".format(100*len(ptweets)/len(tweets)))\n",
    "        # percentage of negative tweets\n",
    "        print(\"Negative tweets percentage: {} %\".format(100*len(ntweets)/len(tweets)))\n",
    "        # percentage of neutral tweets\n",
    "        print(\"Neutral tweets percentage: {} % \".format(100*(len(tweets) - len(ntweets) - len(ptweets))/len(tweets)))\n",
    "\n",
    "        # printing first 5 positive tweets\n",
    "        print(\"\\n\\nPositive tweets:\")\n",
    "        for tweet in ptweets[:5]:\n",
    "            print(tweet['text'])\n",
    "\n",
    "        # printing first 5 negative tweets\n",
    "        print(\"\\n\\nNegative tweets:\")\n",
    "        for tweet in ntweets[:5]:\n",
    "            print(tweet['text'])\n",
    "            \n",
    "    return {'positive': len(ptweets), \n",
    "            'negative': len(ntweets), \n",
    "            'neutral' : neutralCount}\n",
    " \n",
    "    #if __name__ == \"__main__\":\n",
    "        # calling main function\n",
    "    #    main()"
   ]
  },
  {
   "cell_type": "markdown",
   "metadata": {},
   "source": [
    "# Creating a dataframe and updated csv for twitter feed and gdax BTC price"
   ]
  },
  {
   "cell_type": "code",
   "execution_count": 79,
   "metadata": {
    "collapsed": true
   },
   "outputs": [],
   "source": [
    "def save_data(topic, n):\n",
    "    curr_sentiment = main(topic, n, False)\n",
    "    response = requests.get('https://api.cryptowat.ch/markets/gdax/btcusd/summary')\n",
    "    json_data = json.loads(response.text)\n",
    "    btcdata = json_data['result']['price']\n",
    "    btcdata['volume'] = json_data['result']['volume']\n",
    "    del btcdata['change']\n",
    "\n",
    "    curr_sentiment = {**curr_sentiment, **btcdata}\n",
    "\n",
    "    df = pd.DataFrame(curr_sentiment, index = [dt.datetime.fromtimestamp(time.time()).strftime('%Y-%m-%d %H:%M:%S')])\n",
    "    \n",
    "    return df"
   ]
  },
  {
   "cell_type": "code",
   "execution_count": null,
   "metadata": {
    "collapsed": true
   },
   "outputs": [],
   "source": [
    "root = 'C:\\\\Users\\\\Fang\\\\Desktop\\\\Python Trading\\\\Crypto Algo\\\\rawcsv\\\\'\n",
    "i = 0\n",
    "starttime = time.time()\n",
    "mainfile = 'btcdata.csv'\n",
    "\n",
    "topic = ['BTC','btc','bitcoin','Bitcoin','BitCoin']\n",
    "n = 1000000\n",
    "\n",
    "while True:\n",
    "    df = save_data(topic, n)\n",
    "    if os.path.isfile(mainfile) == True:\n",
    "        df.to_csv(mainfile, mode = 'a', header = False)\n",
    "    else:\n",
    "        df.to_csv(mainfile)\n",
    "    df.to_csv(root + 'df' + str(i) + '.csv')    \n",
    "    time.sleep(60 - ((time.time() - starttime) % 60))"
   ]
  },
  {
   "cell_type": "code",
   "execution_count": null,
   "metadata": {
    "collapsed": true
   },
   "outputs": [],
   "source": []
  },
  {
   "cell_type": "code",
   "execution_count": null,
   "metadata": {
    "collapsed": true
   },
   "outputs": [],
   "source": []
  },
  {
   "cell_type": "code",
   "execution_count": 71,
   "metadata": {
    "collapsed": true
   },
   "outputs": [],
   "source": []
  },
  {
   "cell_type": "code",
   "execution_count": null,
   "metadata": {
    "collapsed": true
   },
   "outputs": [],
   "source": []
  },
  {
   "cell_type": "code",
   "execution_count": null,
   "metadata": {
    "collapsed": true
   },
   "outputs": [],
   "source": []
  },
  {
   "cell_type": "code",
   "execution_count": null,
   "metadata": {
    "collapsed": true
   },
   "outputs": [],
   "source": []
  },
  {
   "cell_type": "code",
   "execution_count": null,
   "metadata": {
    "collapsed": true
   },
   "outputs": [],
   "source": []
  },
  {
   "cell_type": "code",
   "execution_count": null,
   "metadata": {
    "collapsed": true
   },
   "outputs": [],
   "source": [
    "# import threading\n",
    "\n",
    "# def hello_world():\n",
    "#  threading.Timer(5.0, hello_world).start() # called every minute\n",
    "#  print(\"Hello, World!\")\n",
    "\n",
    "# hello_world()\n",
    "\n",
    "#def f(f_stop):\n",
    "    # do something here ...\n",
    "#    if not f_stop.is_set():\n",
    "        # call f() again in 60 seconds\n",
    "#        threading.Timer(60, f, [f_stop]).start()\n",
    "\n",
    "#f_stop = threading.Event()\n",
    "# start calling f now and every 60 sec thereafter\n",
    "#f(f_stop)\n",
    "\n",
    "# stop the thread when needed\n",
    "#f_stop.set()"
   ]
  }
 ],
 "metadata": {
  "kernelspec": {
   "display_name": "Python 3",
   "language": "python",
   "name": "python3"
  },
  "language_info": {
   "codemirror_mode": {
    "name": "ipython",
    "version": 3
   },
   "file_extension": ".py",
   "mimetype": "text/x-python",
   "name": "python",
   "nbconvert_exporter": "python",
   "pygments_lexer": "ipython3",
   "version": "3.6.1"
  }
 },
 "nbformat": 4,
 "nbformat_minor": 2
}
