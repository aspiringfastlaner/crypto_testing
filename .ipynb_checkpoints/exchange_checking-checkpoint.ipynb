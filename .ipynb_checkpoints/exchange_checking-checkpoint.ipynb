{
 "cells": [
  {
   "cell_type": "code",
   "execution_count": 124,
   "metadata": {
    "collapsed": true
   },
   "outputs": [],
   "source": [
    "#%% Importing modules and data\n",
    "import smtplib\n",
    "import pandas as pd\n",
    "import numpy as np\n",
    "import datetime as dt\n",
    "import pandas.stats.moments as st\n",
    "from pandas import ExcelWriter\n",
    "import matplotlib.pyplot as plt\n",
    "import os\n",
    "import quandl as qd\n",
    "import seaborn as sns\n",
    "import matplotlib.dates as dates\n",
    "import matplotlib.ticker as ticker\n",
    "from pandas_datareader import data\n",
    "from lxml import html\n",
    "import requests\n",
    "import webbrowser\n",
    "from bs4 import BeautifulSoup as bs\n",
    "import json\n",
    "import csv\n",
    "import os\n",
    "import glob\n",
    "from time import sleep"
   ]
  },
  {
   "cell_type": "code",
   "execution_count": 35,
   "metadata": {},
   "outputs": [
    {
     "data": {
      "text/plain": [
       "array(['Cryptopia', 'Binance', 'Bittrex'], dtype=object)"
      ]
     },
     "execution_count": 35,
     "metadata": {},
     "output_type": "execute_result"
    }
   ],
   "source": [
    "# Importing cross currency sheet\n",
    "cryptos = pd.read_csv('crosspairs.csv')\n",
    "\n",
    "for idx, row in cryptos.iterrows():\n",
    "    symbol = row['Symbol']\n",
    "    exchanges = row.dropna().index.values[2:]\n",
    "    \n",
    "exchanges"
   ]
  },
  {
   "cell_type": "code",
   "execution_count": 188,
   "metadata": {
    "collapsed": true
   },
   "outputs": [],
   "source": [
    "# Pull from Cryptopia\n",
    "def pulltopia(symbol,base):\n",
    "    # Fields:\n",
    "    # AskPrice BaseVolume BidPrice BuyBaseVolume BuyVolume Change\n",
    "    # Close High Label LastPrice Low Open SellBaseVolume \n",
    "    # SellVolume TradePairId Volume\n",
    "    \n",
    "    topiasite = 'https://www.cryptopia.co.nz/api/GetMarket/' + symbol + '_' + base + '/0.001'\n",
    "    response = requests.get(topiasite)\n",
    "    json_data = json.loads(response.text)\n",
    "    return pd.DataFrame(json_data['Data'], index = [0])\n",
    "\n",
    "# Pull from kucoin\n",
    "def pullkucoin(symbol,base):\n",
    "    kubuy = 'https://api.kucoin.com/v1/' + symbol + '-' + base + '/open/orders-buy/'\n",
    "    kusell = 'https://api.kucoin.com/v1/' + symbol + '-' + base + '/open/orders-sell/'\n",
    "    respone = requests.get(kubuy)\n",
    "    json_data_buy = json.loads(respone.text)\n",
    "    response = requests.get(kusell)\n",
    "    json_data_sell = json.loads(response.text)\n",
    "    return pd.DataFrame({'BidPrice':[x[0] for x in json_data_buy['data']],\n",
    "                         'BuyBaseVolume': [x[1] for x in json_data_buy['data']],\n",
    "                         'AskPrice': [x[0] for x in json_data_sell['data']],\n",
    "                         'SellBaseVolume': [x[1] for x in json_data_sell['data']]},\n",
    "                        index = range(len(json_data_buy['data'])))\n",
    "\n",
    "# Pull from Bittrex\n",
    "def trexpull(symbol,base):\n",
    "    trexsite = 'https://bittrex.com/api/v1.1/public/getorderbook?market=' + base + '-' + symbol + '&type=both'\n",
    "    response = requests.get(trexsite)\n",
    "    json_data = json.loads(response.text)\n",
    "    return pd.concat([pd.DataFrame({'BidPrice': [x['Rate'] for x in json_data['result']['buy']],\n",
    "                                    'BuyBaseVolume': [x['Quantity'] for x in json_data['result']['buy']]},\n",
    "                                   index = range(len(json_data['result']['buy']))),\n",
    "                      pd.DataFrame({'AskPrice': [x['Rate'] for x in json_data['result']['sell']],\n",
    "                                    'SellBaseVolume': [x['Quantity'] for x in json_data['result']['sell']]},\n",
    "                                   index = range(len(json_data['result']['sell'])))],\n",
    "                     axis = 1)\n",
    "\n",
    "# Pull from Quoine\n",
    "def quoinepull(id):\n",
    "    # currencypair id\n",
    "    # UBTCETH-->75\n",
    "    # UBTCBTC-->74\n",
    "    # BTCUSD-->1\n",
    "    # QASHBTC-->52\n",
    "    # ETHBTC-->37\n",
    "    # ETHUSD-->27\n",
    "    # NEOUSD-->53\n",
    "    # \n",
    "    quoinesite = 'https://api.quoine.com/products/' + str(id) + '/price_levels'\n",
    "    response = requests.get(quoinesite)\n",
    "    json_data = json.loads(response.text)\n",
    "    return pd.DataFrame({'BidPrice': [x[0] for x in json_data['buy_price_levels']],\n",
    "                         'BuyBaseVolume': [x[1] for x in json_data['buy_price_levels']],\n",
    "                         'AskPrice': [x[0] for x in json_data['sell_price_levels']],\n",
    "                         'SellBaseVolume': [x[1] for x in json_data['sell_price_levels']]},\n",
    "                        index = range(len(json_data['buy_price_levels'])))"
   ]
  },
  {
   "cell_type": "code",
   "execution_count": 189,
   "metadata": {
    "scrolled": true
   },
   "outputs": [],
   "source": [
    "# Arbitrage from Kucoin and Trex\n",
    "\n",
    "def kutrexarb(symbol,base):\n",
    "    kutrex = pd.read_csv('kutrex.csv')\n",
    "    kutrex = kutrex['Symbol'].values\n",
    "    #symbol = kutrex[-2]\n",
    "    ku = pullkucoin(symbol,base)\n",
    "    ku.columns = ['ku_' + colname for colname in ku]\n",
    "    trex = trexpull(symbol,base)[:6]\n",
    "    trex.columns = ['trex_' + colname for colname in trex]\n",
    "    \n",
    "    return pd.concat([ku,trex],axis = 1)"
   ]
  },
  {
   "cell_type": "code",
   "execution_count": 184,
   "metadata": {},
   "outputs": [
    {
     "data": {
      "text/html": [
       "<div>\n",
       "<style>\n",
       "    .dataframe thead tr:only-child th {\n",
       "        text-align: right;\n",
       "    }\n",
       "\n",
       "    .dataframe thead th {\n",
       "        text-align: left;\n",
       "    }\n",
       "\n",
       "    .dataframe tbody tr th {\n",
       "        vertical-align: top;\n",
       "    }\n",
       "</style>\n",
       "<table border=\"1\" class=\"dataframe\">\n",
       "  <thead>\n",
       "    <tr style=\"text-align: right;\">\n",
       "      <th></th>\n",
       "      <th>AskPrice</th>\n",
       "      <th>BaseVolume</th>\n",
       "      <th>BidPrice</th>\n",
       "      <th>BuyBaseVolume</th>\n",
       "      <th>BuyVolume</th>\n",
       "      <th>Change</th>\n",
       "      <th>Close</th>\n",
       "      <th>High</th>\n",
       "      <th>Label</th>\n",
       "      <th>LastPrice</th>\n",
       "      <th>Low</th>\n",
       "      <th>Open</th>\n",
       "      <th>SellBaseVolume</th>\n",
       "      <th>SellVolume</th>\n",
       "      <th>TradePairId</th>\n",
       "      <th>Volume</th>\n",
       "    </tr>\n",
       "  </thead>\n",
       "  <tbody>\n",
       "    <tr>\n",
       "      <th>0</th>\n",
       "      <td>0.08711</td>\n",
       "      <td>594.975575</td>\n",
       "      <td>0.0871</td>\n",
       "      <td>50.661482</td>\n",
       "      <td>4.284690e+06</td>\n",
       "      <td>-2.12</td>\n",
       "      <td>0.08712</td>\n",
       "      <td>0.09135</td>\n",
       "      <td>ETH/BTC</td>\n",
       "      <td>0.08712</td>\n",
       "      <td>0.075</td>\n",
       "      <td>0.08901</td>\n",
       "      <td>1.593836e+07</td>\n",
       "      <td>664.210754</td>\n",
       "      <td>5203</td>\n",
       "      <td>6781.125004</td>\n",
       "    </tr>\n",
       "  </tbody>\n",
       "</table>\n",
       "</div>"
      ],
      "text/plain": [
       "   AskPrice  BaseVolume  BidPrice  BuyBaseVolume     BuyVolume  Change  \\\n",
       "0   0.08711  594.975575    0.0871      50.661482  4.284690e+06   -2.12   \n",
       "\n",
       "     Close     High    Label  LastPrice    Low     Open  SellBaseVolume  \\\n",
       "0  0.08712  0.09135  ETH/BTC    0.08712  0.075  0.08901    1.593836e+07   \n",
       "\n",
       "   SellVolume  TradePairId       Volume  \n",
       "0  664.210754         5203  6781.125004  "
      ]
     },
     "execution_count": 184,
     "metadata": {},
     "output_type": "execute_result"
    }
   ],
   "source": [
    "pulltopia('ETH')"
   ]
  },
  {
   "cell_type": "code",
   "execution_count": 191,
   "metadata": {
    "scrolled": true
   },
   "outputs": [
    {
     "data": {
      "text/html": [
       "<div>\n",
       "<style>\n",
       "    .dataframe thead tr:only-child th {\n",
       "        text-align: right;\n",
       "    }\n",
       "\n",
       "    .dataframe thead th {\n",
       "        text-align: left;\n",
       "    }\n",
       "\n",
       "    .dataframe tbody tr th {\n",
       "        vertical-align: top;\n",
       "    }\n",
       "</style>\n",
       "<table border=\"1\" class=\"dataframe\">\n",
       "  <thead>\n",
       "    <tr style=\"text-align: right;\">\n",
       "      <th></th>\n",
       "      <th>ku_AskPrice</th>\n",
       "      <th>ku_BidPrice</th>\n",
       "      <th>ku_BuyBaseVolume</th>\n",
       "      <th>ku_SellBaseVolume</th>\n",
       "      <th>trex_BidPrice</th>\n",
       "      <th>trex_BuyBaseVolume</th>\n",
       "      <th>trex_AskPrice</th>\n",
       "      <th>trex_SellBaseVolume</th>\n",
       "    </tr>\n",
       "  </thead>\n",
       "  <tbody>\n",
       "    <tr>\n",
       "      <th>0</th>\n",
       "      <td>0.008290</td>\n",
       "      <td>0.008263</td>\n",
       "      <td>126.082811</td>\n",
       "      <td>10.000000</td>\n",
       "      <td>0.008150</td>\n",
       "      <td>10.000000</td>\n",
       "      <td>0.008240</td>\n",
       "      <td>0.720794</td>\n",
       "    </tr>\n",
       "    <tr>\n",
       "      <th>1</th>\n",
       "      <td>0.008290</td>\n",
       "      <td>0.008218</td>\n",
       "      <td>5.000000</td>\n",
       "      <td>0.298969</td>\n",
       "      <td>0.008150</td>\n",
       "      <td>11.400641</td>\n",
       "      <td>0.008240</td>\n",
       "      <td>14.096209</td>\n",
       "    </tr>\n",
       "    <tr>\n",
       "      <th>2</th>\n",
       "      <td>0.008296</td>\n",
       "      <td>0.008218</td>\n",
       "      <td>19.664800</td>\n",
       "      <td>1.092506</td>\n",
       "      <td>0.008124</td>\n",
       "      <td>2.000000</td>\n",
       "      <td>0.008240</td>\n",
       "      <td>3.826322</td>\n",
       "    </tr>\n",
       "    <tr>\n",
       "      <th>3</th>\n",
       "      <td>0.008321</td>\n",
       "      <td>0.008218</td>\n",
       "      <td>3.670563</td>\n",
       "      <td>0.885097</td>\n",
       "      <td>0.008124</td>\n",
       "      <td>3.859738</td>\n",
       "      <td>0.008240</td>\n",
       "      <td>100.000000</td>\n",
       "    </tr>\n",
       "    <tr>\n",
       "      <th>4</th>\n",
       "      <td>0.008321</td>\n",
       "      <td>0.008205</td>\n",
       "      <td>2.985984</td>\n",
       "      <td>1.297092</td>\n",
       "      <td>0.008123</td>\n",
       "      <td>3.639044</td>\n",
       "      <td>0.008241</td>\n",
       "      <td>49.777811</td>\n",
       "    </tr>\n",
       "    <tr>\n",
       "      <th>5</th>\n",
       "      <td>0.008347</td>\n",
       "      <td>0.008200</td>\n",
       "      <td>4.100000</td>\n",
       "      <td>3.654886</td>\n",
       "      <td>0.008121</td>\n",
       "      <td>5.000000</td>\n",
       "      <td>0.008241</td>\n",
       "      <td>1.000000</td>\n",
       "    </tr>\n",
       "  </tbody>\n",
       "</table>\n",
       "</div>"
      ],
      "text/plain": [
       "   ku_AskPrice  ku_BidPrice  ku_BuyBaseVolume  ku_SellBaseVolume  \\\n",
       "0     0.008290     0.008263        126.082811          10.000000   \n",
       "1     0.008290     0.008218          5.000000           0.298969   \n",
       "2     0.008296     0.008218         19.664800           1.092506   \n",
       "3     0.008321     0.008218          3.670563           0.885097   \n",
       "4     0.008321     0.008205          2.985984           1.297092   \n",
       "5     0.008347     0.008200          4.100000           3.654886   \n",
       "\n",
       "   trex_BidPrice  trex_BuyBaseVolume  trex_AskPrice  trex_SellBaseVolume  \n",
       "0       0.008150           10.000000       0.008240             0.720794  \n",
       "1       0.008150           11.400641       0.008240            14.096209  \n",
       "2       0.008124            2.000000       0.008240             3.826322  \n",
       "3       0.008124            3.859738       0.008240           100.000000  \n",
       "4       0.008123            3.639044       0.008241            49.777811  \n",
       "5       0.008121            5.000000       0.008241             1.000000  "
      ]
     },
     "execution_count": 191,
     "metadata": {},
     "output_type": "execute_result"
    }
   ],
   "source": [
    "kutrexarb('NEO','BTC')"
   ]
  },
  {
   "cell_type": "code",
   "execution_count": 187,
   "metadata": {},
   "outputs": [
    {
     "data": {
      "text/plain": [
       "0.008790135514589181"
      ]
     },
     "execution_count": 187,
     "metadata": {},
     "output_type": "execute_result"
    }
   ],
   "source": [
    "0.008263/0.008191-1"
   ]
  },
  {
   "cell_type": "code",
   "execution_count": 185,
   "metadata": {},
   "outputs": [
    {
     "data": {
      "text/plain": [
       "array(['DGB', 'QTUM', 'PAY', 'ETH', 'LTC', 'CVC', 'UKG', 'DASH', 'POWR',\n",
       "       'BTG', 'ETC', 'NEO', 'OMG', 'SNT'], dtype=object)"
      ]
     },
     "execution_count": 185,
     "metadata": {},
     "output_type": "execute_result"
    }
   ],
   "source": [
    "kutrex"
   ]
  },
  {
   "cell_type": "code",
   "execution_count": null,
   "metadata": {},
   "outputs": [],
   "source": []
  },
  {
   "cell_type": "code",
   "execution_count": null,
   "metadata": {
    "collapsed": true
   },
   "outputs": [],
   "source": []
  }
 ],
 "metadata": {
  "kernelspec": {
   "display_name": "Python 3",
   "language": "python",
   "name": "python3"
  },
  "language_info": {
   "codemirror_mode": {
    "name": "ipython",
    "version": 3
   },
   "file_extension": ".py",
   "mimetype": "text/x-python",
   "name": "python",
   "nbconvert_exporter": "python",
   "pygments_lexer": "ipython3",
   "version": "3.6.1"
  }
 },
 "nbformat": 4,
 "nbformat_minor": 2
}
