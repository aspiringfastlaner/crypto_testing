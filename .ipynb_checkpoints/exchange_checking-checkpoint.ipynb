{
 "cells": [
  {
   "cell_type": "code",
   "execution_count": 124,
   "metadata": {
    "collapsed": true
   },
   "outputs": [],
   "source": [
    "#%% Importing modules and data\n",
    "import smtplib\n",
    "import pandas as pd\n",
    "import numpy as np\n",
    "import datetime as dt\n",
    "import pandas.stats.moments as st\n",
    "from pandas import ExcelWriter\n",
    "import matplotlib.pyplot as plt\n",
    "import os\n",
    "import quandl as qd\n",
    "import seaborn as sns\n",
    "import matplotlib.dates as dates\n",
    "import matplotlib.ticker as ticker\n",
    "from pandas_datareader import data\n",
    "from lxml import html\n",
    "import requests\n",
    "import webbrowser\n",
    "from bs4 import BeautifulSoup as bs\n",
    "import json\n",
    "import csv\n",
    "import os\n",
    "import glob\n",
    "from time import sleep"
   ]
  },
  {
   "cell_type": "code",
   "execution_count": 35,
   "metadata": {},
   "outputs": [
    {
     "data": {
      "text/plain": [
       "array(['Cryptopia', 'Binance', 'Bittrex'], dtype=object)"
      ]
     },
     "execution_count": 35,
     "metadata": {},
     "output_type": "execute_result"
    }
   ],
   "source": [
    "# Importing cross currency sheet\n",
    "cryptos = pd.read_csv('crosspairs.csv')\n",
    "\n",
    "'''\n",
    "for idx, row in cryptos.iterrows():\n",
    "    symbol = row['Symbol']\n",
    "    exchanges = row.dropna().index.values[2:]\n",
    "    \n",
    "exchanges\n",
    "'''"
   ]
  },
  {
   "cell_type": "code",
   "execution_count": 188,
   "metadata": {
    "collapsed": true
   },
   "outputs": [],
   "source": [
    "# Pull from Cryptopia\n",
    "def pulltopia(symbol,base):\n",
    "    # Fields:\n",
    "    # AskPrice BaseVolume BidPrice BuyBaseVolume BuyVolume Change\n",
    "    # Close High Label LastPrice Low Open SellBaseVolume \n",
    "    # SellVolume TradePairId Volume\n",
    "    \n",
    "    topiasite = 'https://www.cryptopia.co.nz/api/GetMarket/' + symbol + '_' + base + '/0.001'\n",
    "    response = requests.get(topiasite)\n",
    "    json_data = json.loads(response.text)\n",
    "    return pd.DataFrame(json_data['Data'], index = [0])\n",
    "\n",
    "# Pull from kucoin\n",
    "def pullkucoin(symbol,base):\n",
    "    kubuy = 'https://api.kucoin.com/v1/' + symbol + '-' + base + '/open/orders-buy/'\n",
    "    kusell = 'https://api.kucoin.com/v1/' + symbol + '-' + base + '/open/orders-sell/'\n",
    "    respone = requests.get(kubuy)\n",
    "    json_data_buy = json.loads(respone.text)\n",
    "    response = requests.get(kusell)\n",
    "    json_data_sell = json.loads(response.text)\n",
    "    return pd.DataFrame({'BidPrice':[x[0] for x in json_data_buy['data']],\n",
    "                         'BuyBaseVolume': [x[1] for x in json_data_buy['data']],\n",
    "                         'AskPrice': [x[0] for x in json_data_sell['data']],\n",
    "                         'SellBaseVolume': [x[1] for x in json_data_sell['data']]},\n",
    "                        index = range(len(json_data_buy['data'])))\n",
    "\n",
    "# Pull from Bittrex\n",
    "def trexpull(symbol,base):\n",
    "    trexsite = 'https://bittrex.com/api/v1.1/public/getorderbook?market=' + base + '-' + symbol + '&type=both'\n",
    "    response = requests.get(trexsite)\n",
    "    json_data = json.loads(response.text)\n",
    "    return pd.concat([pd.DataFrame({'BidPrice': [x['Rate'] for x in json_data['result']['buy']],\n",
    "                                    'BuyBaseVolume': [x['Quantity'] for x in json_data['result']['buy']]},\n",
    "                                   index = range(len(json_data['result']['buy']))),\n",
    "                      pd.DataFrame({'AskPrice': [x['Rate'] for x in json_data['result']['sell']],\n",
    "                                    'SellBaseVolume': [x['Quantity'] for x in json_data['result']['sell']]},\n",
    "                                   index = range(len(json_data['result']['sell'])))],\n",
    "                     axis = 1)\n",
    "\n",
    "# Pull from Quoine\n",
    "def quoinepull(id):\n",
    "    # currencypair id\n",
    "    # UBTCETH-->75\n",
    "    # UBTCBTC-->74\n",
    "    # BTCUSD-->1\n",
    "    # QASHBTC-->52\n",
    "    # ETHBTC-->37\n",
    "    # ETHUSD-->27\n",
    "    # NEOUSD-->53\n",
    "    # \n",
    "    quoinesite = 'https://api.quoine.com/products/' + str(id) + '/price_levels'\n",
    "    response = requests.get(quoinesite)\n",
    "    json_data = json.loads(response.text)\n",
    "    return pd.DataFrame({'BidPrice': [x[0] for x in json_data['buy_price_levels']],\n",
    "                         'BuyBaseVolume': [x[1] for x in json_data['buy_price_levels']],\n",
    "                         'AskPrice': [x[0] for x in json_data['sell_price_levels']],\n",
    "                         'SellBaseVolume': [x[1] for x in json_data['sell_price_levels']]},\n",
    "                        index = range(len(json_data['buy_price_levels'])))"
   ]
  },
  {
   "cell_type": "code",
   "execution_count": 227,
   "metadata": {
    "scrolled": true
   },
   "outputs": [],
   "source": [
    "# Arbitrage from Kucoin and Trex\n",
    "\n",
    "def kutrexarb(symbol,base):\n",
    "    ku = pullkucoin(symbol,base)\n",
    "    ku.columns = ['ku_' + colname for colname in ku]\n",
    "    trex = trexpull(symbol,base)[:6]\n",
    "    trex.columns = ['trex_' + colname for colname in trex]\n",
    "    return pd.concat([ku,trex],axis = 1).iloc[0]\n",
    "\n",
    "def checkarbs():\n",
    "    pairs = pd.read_csv('kutrex.csv')\n",
    "    currencypairs = []\n",
    "    buyex = []\n",
    "    sellex = []\n",
    "    askprice = []\n",
    "    bidprice = []\n",
    "    arbamount = []\n",
    "    for idx, row in pairs.iterrows():\n",
    "        symbol = row['Symbol']\n",
    "        base = row['Base']\n",
    "        tempseries = kutrexarb(symbol,base)\n",
    "        \n",
    "        if tempseries['ku_AskPrice'] < tempseries['trex_BidPrice']:\n",
    "            # Buy on Ku and sell on Trex\n",
    "            currencypairs = currencypairs + [symbol + base]\n",
    "            buyex = buyex + ['Ku']\n",
    "            sellex = sellex + ['Trex']\n",
    "            askprice = askprice + [tempseries['ku_AskPrice']]\n",
    "            bidprice = bidprice + [tempseries['trex_BidPrice']]\n",
    "            arbamount = arbamount + [tempseries['trex_BidPrice']/tempseries['ku_AskPrice']-1]\n",
    "        elif tempseries['trex_AskPrice'] < tempseries['ku_BidPrice']:\n",
    "            # Buy on Trex ad sell on Ku\n",
    "            currencypairs = currencypairs + [symbol + base]\n",
    "            buyex = buyex + ['Trex']\n",
    "            sellex = sellex + ['Ku']\n",
    "            askprice = askprice + [tempseries['trex_AskPrice']]\n",
    "            bidprice = bidprice + [tempseries['ku_BidPrice']]\n",
    "            arbamount = arbamount + [tempseries['ku_BidPrice']/tempseries['trex_AskPrice']-1]\n",
    "        else:\n",
    "            continue\n",
    "        sleep(1)\n",
    "    \n",
    "    df = pd.DataFrame({'BuyExchange': buyex,\n",
    "                      'SellExchange': sellex,\n",
    "                      'AskPrice': askprice,\n",
    "                      'BidPrice': bidprice,\n",
    "                      'ArbReturn': arbamount},\n",
    "                     index = currencypairs)\n",
    "    return df"
   ]
  },
  {
   "cell_type": "code",
   "execution_count": null,
   "metadata": {},
   "outputs": [],
   "source": [
    "checkarbs()"
   ]
  },
  {
   "cell_type": "code",
   "execution_count": null,
   "metadata": {
    "scrolled": true
   },
   "outputs": [],
   "source": []
  },
  {
   "cell_type": "code",
   "execution_count": null,
   "metadata": {},
   "outputs": [],
   "source": []
  },
  {
   "cell_type": "code",
   "execution_count": null,
   "metadata": {},
   "outputs": [],
   "source": []
  },
  {
   "cell_type": "code",
   "execution_count": null,
   "metadata": {},
   "outputs": [],
   "source": []
  },
  {
   "cell_type": "code",
   "execution_count": null,
   "metadata": {
    "collapsed": true
   },
   "outputs": [],
   "source": []
  }
 ],
 "metadata": {
  "kernelspec": {
   "display_name": "Python 3",
   "language": "python",
   "name": "python3"
  },
  "language_info": {
   "codemirror_mode": {
    "name": "ipython",
    "version": 3
   },
   "file_extension": ".py",
   "mimetype": "text/x-python",
   "name": "python",
   "nbconvert_exporter": "python",
   "pygments_lexer": "ipython3",
   "version": "3.6.1"
  }
 },
 "nbformat": 4,
 "nbformat_minor": 2
}
