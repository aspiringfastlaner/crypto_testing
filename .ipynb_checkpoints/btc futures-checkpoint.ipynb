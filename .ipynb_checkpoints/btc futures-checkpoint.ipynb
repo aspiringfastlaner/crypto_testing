{
 "cells": [
  {
   "cell_type": "markdown",
   "metadata": {},
   "source": [
    "## CBOE Bitcoin Futures (XBT) Vs. CME Bitcoin Futures (BTC)\n",
    "\n",
    "__CBOE's XBT: 1X Multiplier__\n",
    "- CBOE’s contracts are based on a daily auction price from Gemini.\n",
    "- Gemini is a virtual currency exchange run by twins Cameron and Tyler Winklevoss.\n",
    "- Investors may not own or control more than a net 5,000 contracts, long or short combined, and the global market will be open for more than 23 hours.\n",
    "- CBOE will demand from investors an initial margin of 33% to back the trades in its clearing house.\n",
    "- The CBOE will waive all fees on Bitcoin trading for the month of December.\n",
    "\n",
    "__CME's BTC: 5X Multiplier__\n",
    "- CME’s prices are a composite derived from four Bitcoin exchanges.\n",
    ">- Bitstamp\n",
    ">- GDAX\n",
    ">- itBit\n",
    ">- Kraken\n",
    "- CME is also planning to limit the amount of contracts investors can hold to 1,000 (equivalent to CBOE because 1 contract = 5 bitcoins).\n",
    "- CME will demand from investors an initial margin of 35% to back the trades in its clearing house.\n",
    "- CME will introduce a market maker program to support the on-screen market development of Bitcoin futures.\n",
    "- The CME will provide a 50% discount to all market participants for CME Globex spread transactions through May 31, 2018.\n",
    "- The CME Group has a vested interest in the success of this product due to its ownership stake in Digital Currency Group, the parent of CoinDesk, a prominent leader in the digital currency world."
   ]
  },
  {
   "cell_type": "code",
   "execution_count": null,
   "metadata": {
    "collapsed": true
   },
   "outputs": [],
   "source": [
    "#%% Importing modules and data\n",
    "import smtplib\n",
    "import pandas as pd\n",
    "import numpy as np\n",
    "import datetime as dt\n",
    "import pandas.stats.moments as st\n",
    "from pandas import ExcelWriter\n",
    "import matplotlib.pyplot as plt\n",
    "import os\n",
    "import quandl as qd\n",
    "import seaborn as sns\n",
    "import matplotlib.dates as dates\n",
    "import matplotlib.ticker as ticker\n",
    "from pandas_datareader import data\n",
    "from lxml import html\n",
    "import requests\n",
    "import webbrowser\n",
    "from bs4 import BeautifulSoup as bs\n",
    "import json\n",
    "import csv\n",
    "import os\n",
    "import glob"
   ]
  }
 ],
 "metadata": {
  "kernelspec": {
   "display_name": "Python 3",
   "language": "python",
   "name": "python3"
  },
  "language_info": {
   "codemirror_mode": {
    "name": "ipython",
    "version": 3
   },
   "file_extension": ".py",
   "mimetype": "text/x-python",
   "name": "python",
   "nbconvert_exporter": "python",
   "pygments_lexer": "ipython3",
   "version": "3.6.1"
  }
 },
 "nbformat": 4,
 "nbformat_minor": 2
}
