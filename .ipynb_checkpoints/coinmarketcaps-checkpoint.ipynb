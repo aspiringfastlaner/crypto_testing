{
 "cells": [
  {
   "cell_type": "code",
   "execution_count": 1,
   "metadata": {
    "collapsed": true
   },
   "outputs": [],
   "source": [
    "#%% Importing modules and data\n",
    "import smtplib\n",
    "import pandas as pd\n",
    "import numpy as np\n",
    "import datetime as dt\n",
    "import pandas.stats.moments as st\n",
    "from pandas import ExcelWriter\n",
    "import matplotlib.pyplot as plt\n",
    "import os\n",
    "import quandl as qd\n",
    "import seaborn as sns\n",
    "import matplotlib.dates as dates\n",
    "import matplotlib.ticker as ticker\n",
    "from pandas_datareader import data\n",
    "from lxml import html\n",
    "import requests\n",
    "import webbrowser\n",
    "from bs4 import BeautifulSoup as bs\n",
    "import json\n",
    "import csv\n",
    "import os\n",
    "import glob"
   ]
  },
  {
   "cell_type": "code",
   "execution_count": 107,
   "metadata": {
    "collapsed": true
   },
   "outputs": [],
   "source": [
    "'''\n",
    "Fields\n",
    "market_cap_usd\n",
    "name\n",
    "price_usd\n",
    "symbol\n",
    "'''\n",
    "exclusion_list = []# ['BCC','XRP','USDT']\n",
    "capital = 20000\n",
    "\n",
    "response = requests.get('https://api.coinmarketcap.com/v1/ticker/')\n",
    "json_data = json.loads(response.text)\n",
    "i = 0\n",
    "crypto_df = {}\n",
    "for cc in json_data:\n",
    "    temp_df = pd.DataFrame(cc, index = [i])[['symbol','name','market_cap_usd','price_usd']]\n",
    "    if len(crypto_df) == 0:\n",
    "        crypto_df = temp_df\n",
    "    else:\n",
    "        crypto_df = pd.concat([crypto_df,temp_df],axis = 0)\n",
    "    i += 1\n",
    "    \n",
    "crypto_df['market_cap_usd'] = pd.to_numeric(crypto_df['market_cap_usd'])\n",
    "crypto_df['price_usd'] = pd.to_numeric(crypto_df['price_usd'])\n",
    "\n",
    "crypto_df = crypto_df.sort_values(by = 'market_cap_usd', ascending = False)\n",
    "crypto_df = crypto_df[crypto_df['symbol'].isin(exclusion_list) == False]#[:30]\n",
    "\n",
    "crypto_df['weight'] = crypto_df['market_cap_usd']/crypto_df['market_cap_usd'].sum()\n",
    "crypto_df['dollar_weight'] = crypto_df['weight']*capital\n",
    "crypto_df['expected_holdings'] = crypto_df['dollar_weight']/crypto_df['price_usd']\n",
    "\n",
    "crypto_list = [(lambda x: x.lower().replace(\" \", \"-\"))(x) for x in list(crypto_df['name'])]"
   ]
  },
  {
   "cell_type": "code",
   "execution_count": 150,
   "metadata": {},
   "outputs": [],
   "source": [
    "# Starting table: <table class=\"table\">\n",
    "# Ending table: </table>\n",
    "\n",
    "# site: https://coinmarketcap.com/currencies/bitcoin/historical-data/?start=20130428&end=20171111\n",
    "\n",
    "ticker = 'bitcoin'\n",
    "start_date = '20130428'\n",
    "end_date = '20171111'\n",
    "\n",
    "def coinmktcapPull(ticker, start_date, end_date):\n",
    "    \n",
    "    wrongticker = \"Sorry, we couldn't find your page\"\n",
    "\n",
    "    date_range = '/historical-data/?start=' + start_date + '&end=' + end_date\n",
    "    site = 'https://coinmarketcap.com/currencies/' + ticker + date_range\n",
    "    res = requests.get(site)\n",
    "    soup = bs(requests.get(site).text, \"lxml\")\n",
    "    #soup = soup.prettify()\n",
    "\n",
    "    if wrongticker in soup:\n",
    "        return ticker, ticker\n",
    "\n",
    "    table_start = '<table class=\"table\">'\n",
    "    table_end = '</table>'\n",
    "    if len(soup.find_all('table')) == 0:\n",
    "        return ticker, ticker\n",
    "\n",
    "    table = soup.find_all('table')[0]    \n",
    "\n",
    "    # Parsing table from beautiful soup text\n",
    "    row_marker = 0\n",
    "    dates = []\n",
    "    opens = []\n",
    "    highs = []\n",
    "    lows = []\n",
    "    closes = []\n",
    "    volumes = []\n",
    "    mktcaps = []\n",
    "    for row in table.find_all('tr'):\n",
    "        column_marker = 0\n",
    "        columns = str(row).split('\\n')\n",
    "        if 'Date' in columns[1]:\n",
    "            continue\n",
    "        else:\n",
    "            dates = dates + [columns[1].split('<td class=\"text-left\">')[1].split('</td>')[0]]\n",
    "            opens = opens + [columns[2].split('<td>')[1].split('</td>')[0]]\n",
    "            highs = highs + [columns[3].split('<td>')[1].split('</td>')[0]]\n",
    "            lows = lows + [columns[4].split('<td>')[1].split('</td>')[0]]\n",
    "            closes = closes + [columns[5].split('<td>')[1].split('</td>')[0]]\n",
    "            volumes = volumes + [columns[6].split('<td>')[1].split('</td>')[0].replace(',','').replace('-','0')]\n",
    "            mktcaps = mktcaps + [columns[7].split('<td>')[1].split('</td>')[0].replace(',','').replace('-','0')]\n",
    "    '''\n",
    "    crypto_dict = {ticker + '_open': opens,\n",
    "                   ticker + '_high': highs,\n",
    "                   ticker + '_low': lows,\n",
    "                   ticker + '_close': closes,\n",
    "                   ticker + '_volume': volumes,\n",
    "                   ticker + '_mktcap': mktcaps}\n",
    "    '''\n",
    "    crypto_closes = {ticker + '_close': closes}\n",
    "    crypto_mktcaps = {ticker + '_mktcap': mktcaps}\n",
    "    close_df = pd.DataFrame(crypto_closes, index = dates)\n",
    "    mktcap_df = pd.DataFrame(crypto_mktcaps, index = dates)\n",
    "    \n",
    "    #coinmktcapdf[ticker + '_open'] = pd.to_numeric(coinmktcapdf[ticker + '_open'])\n",
    "    #coinmktcapdf[ticker + '_high'] = pd.to_numeric(coinmktcapdf[ticker + '_high'])\n",
    "    #coinmktcapdf[ticker + '_low'] = pd.to_numeric(coinmktcapdf[ticker + '_low'])\n",
    "    close_df[ticker + '_close'] = pd.to_numeric(close_df[ticker + '_close'])\n",
    "    #coinmktcapdf[ticker + '_volume'] = pd.to_numeric(coinmktcapdf[ticker + '_volume'])\n",
    "    mktcap_df[ticker + '_mktcap'] = pd.to_numeric(mktcap_df[ticker + '_mktcap'])\n",
    "    close_df.index = pd.to_datetime(close_df.index)\n",
    "    mktcap_df.index = pd.to_datetime(mktcap_df.index)\n",
    "    return close_df, mktcap_df"
   ]
  },
  {
   "cell_type": "code",
   "execution_count": 151,
   "metadata": {},
   "outputs": [],
   "source": [
    "all_close = []\n",
    "all_mktcap = []\n",
    "wrong_names = []\n",
    "\n",
    "start_date = '20130428'\n",
    "end_date = '20171111'\n",
    "for tick in crypto_list:\n",
    "    temp_close, temp_mktcap = coinmktcapPull(tick, start_date, end_date)\n",
    "    if type(temp_df) == str:\n",
    "        wrong_names += [temp_close]\n",
    "    else:\n",
    "        all_close += [temp_close]\n",
    "        all_mktcap += [temp_mktcap]\n",
    "        \n",
    "correct_names = ['stellar', 'bytecoin-bcn','metaverse','byteball','attention-token-of-media','rlc']\n",
    "\n",
    "for tick in correct_names:\n",
    "    temp_close, temp_mktcap = coinmktcapPull(tick, start_date, end_date)\n",
    "    if type(temp_df) == str:\n",
    "        wrong_names += [temp_close]\n",
    "    else:\n",
    "        all_close += [temp_close]\n",
    "        all_mktcap += [temp_mktcap]"
   ]
  },
  {
   "cell_type": "code",
   "execution_count": 171,
   "metadata": {},
   "outputs": [],
   "source": [
    "cc_close = pd.concat(filter(lambda x: type(x) != str, all_close), axis = 1).fillna(0)\n",
    "cc_mcaps = pd.concat(filter(lambda x: type(x) != str, all_mktcap), axis = 1).fillna(0)\n",
    "\n",
    "cc_index = cc_close[['bitcoin_close']]\n",
    "cc_index.columns = ['index']"
   ]
  },
  {
   "cell_type": "code",
   "execution_count": 168,
   "metadata": {},
   "outputs": [],
   "source": [
    "# cc_close.iloc[0].sort_values(ascending = False)"
   ]
  },
  {
   "cell_type": "code",
   "execution_count": null,
   "metadata": {},
   "outputs": [
    {
     "name": "stderr",
     "output_type": "stream",
     "text": [
      "C:\\Users\\Fang\\Anaconda3\\lib\\site-packages\\pandas\\core\\indexing.py:179: SettingWithCopyWarning: \n",
      "A value is trying to be set on a copy of a slice from a DataFrame\n",
      "\n",
      "See the caveats in the documentation: http://pandas.pydata.org/pandas-docs/stable/indexing.html#indexing-view-versus-copy\n",
      "  self._setitem_with_indexer(indexer, value)\n",
      "C:\\Users\\Fang\\Anaconda3\\lib\\site-packages\\ipykernel_launcher.py:2: SettingWithCopyWarning: \n",
      "A value is trying to be set on a copy of a slice from a DataFrame\n",
      "\n",
      "See the caveats in the documentation: http://pandas.pydata.org/pandas-docs/stable/indexing.html#indexing-view-versus-copy\n",
      "  \n"
     ]
    }
   ],
   "source": [
    "for i in range(len(cc_index)):\n",
    "    cc_index.iloc[i] = 0"
   ]
  },
  {
   "cell_type": "code",
   "execution_count": null,
   "metadata": {},
   "outputs": [],
   "source": [
    "cc_index"
   ]
  },
  {
   "cell_type": "code",
   "execution_count": null,
   "metadata": {},
   "outputs": [],
   "source": []
  },
  {
   "cell_type": "code",
   "execution_count": null,
   "metadata": {
    "collapsed": true
   },
   "outputs": [],
   "source": []
  }
 ],
 "metadata": {
  "kernelspec": {
   "display_name": "Python 3",
   "language": "python",
   "name": "python3"
  },
  "language_info": {
   "codemirror_mode": {
    "name": "ipython",
    "version": 3
   },
   "file_extension": ".py",
   "mimetype": "text/x-python",
   "name": "python",
   "nbconvert_exporter": "python",
   "pygments_lexer": "ipython3",
   "version": "3.6.1"
  }
 },
 "nbformat": 4,
 "nbformat_minor": 2
}
